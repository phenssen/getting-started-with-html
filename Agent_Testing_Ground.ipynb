{
  "nbformat": 4,
  "nbformat_minor": 0,
  "metadata": {
    "colab": {
      "provenance": [],
      "collapsed_sections": [
        "KP4fP-yPPL94",
        "lYbJvBusP57P"
      ],
      "include_colab_link": true
    },
    "kernelspec": {
      "name": "python3",
      "display_name": "Python 3"
    },
    "language_info": {
      "name": "python"
    }
  },
  "cells": [
    {
      "cell_type": "markdown",
      "metadata": {
        "id": "view-in-github",
        "colab_type": "text"
      },
      "source": [
        "<a href=\"https://colab.research.google.com/github/phenssen/getting-started-with-html/blob/master/Agent_Testing_Ground.ipynb\" target=\"_parent\"><img src=\"https://colab.research.google.com/assets/colab-badge.svg\" alt=\"Open In Colab\"/></a>"
      ]
    },
    {
      "cell_type": "markdown",
      "source": [
        "# Imports"
      ],
      "metadata": {
        "id": "KP4fP-yPPL94"
      }
    },
    {
      "cell_type": "code",
      "source": [
        "from crewai import Agent, Task\n",
        "from crewai_tools import (SerperDevTool)\n",
        "\n",
        "# from tools.vector_search import VectorSearchTools\n",
        "\n",
        "from langchain_openai import ChatOpenAI\n",
        "\n",
        "from textwrap import dedent\n",
        "\n",
        "\n",
        "# external_vector_tools = VectorSearchTools()\n",
        "search_tool = SerperDevTool()\n",
        "\n",
        "from crewai import Crew, Process\n",
        "\n",
        "from typing import Union, List, Tuple, Dict\n",
        "import json\n",
        "import os\n",
        "from crewai_tools import tool\n",
        "from crewai_tools import BaseTool\n",
        "\n",
        "from pydantic import BaseModel, Field\n",
        "from typing import Type\n",
        "from google.colab import userdata\n",
        "import os"
      ],
      "metadata": {
        "id": "MJTps2YuOnWZ"
      },
      "execution_count": null,
      "outputs": []
    },
    {
      "cell_type": "markdown",
      "source": [
        "# Config"
      ],
      "metadata": {
        "id": "lYbJvBusP57P"
      }
    },
    {
      "cell_type": "code",
      "source": [
        "standard_model = \"chatgpt-4o-latest\"\n",
        "serper_api_key = userdata.get('SERPER_API_KEY')\n",
        "os.environ['SERPER_API_KEY'] = serper_api_key\n",
        "openai_key = userdata.get('OPENAI_API_KEY')\n",
        "os.environ['OPENAI_API_KEY'] = openai_key"
      ],
      "metadata": {
        "id": "TWi2hEcEP7tQ"
      },
      "execution_count": null,
      "outputs": []
    },
    {
      "cell_type": "markdown",
      "source": [
        "# Tools"
      ],
      "metadata": {
        "id": "jGeL2bXlO4nm"
      }
    },
    {
      "cell_type": "markdown",
      "source": [
        "## Human Input"
      ],
      "metadata": {
        "id": "DJD2Tt0MPqFa"
      }
    },
    {
      "cell_type": "code",
      "source": [
        "class HumanInputSchema(BaseModel):\n",
        "    prompt: str = Field(description=\"The prompt to show to the user\")\n",
        "\n",
        "class TerminalInputTool(BaseTool):\n",
        "    name: str = \"TerminalInputTool\"\n",
        "    description: str = \"Get input from the user via terminal prompt\"\n",
        "    args_schema: Type[BaseModel] = HumanInputSchema\n",
        "\n",
        "    def _run(self, prompt: str) -> str:\n",
        "        \"\"\"\n",
        "        Get input from user via terminal.\n",
        "\n",
        "        Args:\n",
        "            prompt (str): The prompt to show to the user\n",
        "\n",
        "        Returns:\n",
        "            str: The user's input response\n",
        "        \"\"\"\n",
        "        try:\n",
        "            user_input = input(f\"{prompt}\\n> \")\n",
        "            return user_input.strip()\n",
        "        except Exception as e:\n",
        "            return f\"Error getting user input: {str(e)}\"\n",
        "\n",
        "# Create terminal input tool instance\n",
        "human_input = TerminalInputTool()\n"
      ],
      "metadata": {
        "id": "h6fPQg-tPRYo"
      },
      "execution_count": null,
      "outputs": []
    },
    {
      "cell_type": "markdown",
      "source": [
        "## Calculator"
      ],
      "metadata": {
        "id": "_udnkWt9PsRK"
      }
    },
    {
      "cell_type": "code",
      "source": [
        "class CalculatorSchema(BaseModel):\n",
        "    operation: str = Field(\n",
        "        description=\"A mathematical expression to evaluate, like '200*7' or '5000/2*10'. Supports basic arithmetic operations: addition (+), subtraction (-), multiplication (*), and division (/)\"\n",
        "    )\n",
        "\n",
        "\n",
        "class CalculatorTool(BaseTool):\n",
        "    name: str = \"Calculator\"\n",
        "    description: str = (\n",
        "        \"\"\"Useful to perform basic mathematical calculations, like addition, subtraction,\n",
        "        multiplication, and division. The input to this tool should be a mathematical expression, a couple examples are `200*7` or `5000/2*10`\"\"\"\n",
        "    )\n",
        "    args_schema: Type[BaseModel] = CalculatorSchema\n",
        "\n",
        "    def _run(self, operation: str) -> float:\n",
        "        \"\"\"Useful to perform basic mathematical calculations,\n",
        "        like addition, subtraction, multiplication, and division.\n",
        "        The input to this tool should be a mathematical\n",
        "        expression, a couple examples are `200*7` or `5000/2*10`\n",
        "        \"\"\"\n",
        "        import ast\n",
        "        import operator\n",
        "\n",
        "        # Define allowed operators\n",
        "        allowed_operators = {\n",
        "            ast.Add: operator.add,\n",
        "            ast.Sub: operator.sub,\n",
        "            ast.Mult: operator.mul,\n",
        "            ast.Div: operator.truediv,\n",
        "            ast.USub: operator.neg,\n",
        "        }\n",
        "\n",
        "        def safe_eval(node):\n",
        "            if isinstance(node, ast.Num):\n",
        "                return node.n\n",
        "            elif isinstance(node, ast.BinOp):\n",
        "                if type(node.op) not in allowed_operators:\n",
        "                    raise ValueError(f\"Unsupported operation: {type(node.op).__name__}\")\n",
        "                return allowed_operators[type(node.op)](\n",
        "                    safe_eval(node.left), safe_eval(node.right)\n",
        "                )\n",
        "            elif isinstance(node, ast.UnaryOp):\n",
        "                if type(node.op) not in allowed_operators:\n",
        "                    raise ValueError(f\"Unsupported operation: {type(node.op).__name__}\")\n",
        "                return allowed_operators[type(node.op)](safe_eval(node.operand))\n",
        "            else:\n",
        "                raise ValueError(f\"Unsupported node type: {type(node).__name__}\")\n",
        "\n",
        "        try:\n",
        "            parsed = ast.parse(operation, mode=\"eval\")\n",
        "            result = safe_eval(parsed.body)\n",
        "            return float(result)\n",
        "        except (ValueError, TypeError, ZeroDivisionError) as e:\n",
        "            raise ValueError(f\"Invalid expression: {str(e)}\")\n"
      ],
      "metadata": {
        "id": "JfirrJfaPmgZ",
        "colab": {
          "base_uri": "https://localhost:8080/",
          "height": 224
        },
        "outputId": "54ebb147-e5aa-4bfe-eab7-8e9d068c4899"
      },
      "execution_count": null,
      "outputs": [
        {
          "output_type": "error",
          "ename": "NameError",
          "evalue": "name 'BaseModel' is not defined",
          "traceback": [
            "\u001b[0;31m---------------------------------------------------------------------------\u001b[0m",
            "\u001b[0;31mNameError\u001b[0m                                 Traceback (most recent call last)",
            "\u001b[0;32m<ipython-input-2-f5a055c0bcb1>\u001b[0m in \u001b[0;36m<cell line: 1>\u001b[0;34m()\u001b[0m\n\u001b[0;32m----> 1\u001b[0;31m \u001b[0;32mclass\u001b[0m \u001b[0mCalculatorSchema\u001b[0m\u001b[0;34m(\u001b[0m\u001b[0mBaseModel\u001b[0m\u001b[0;34m)\u001b[0m\u001b[0;34m:\u001b[0m\u001b[0;34m\u001b[0m\u001b[0;34m\u001b[0m\u001b[0m\n\u001b[0m\u001b[1;32m      2\u001b[0m     operation: str = Field(\n\u001b[1;32m      3\u001b[0m         \u001b[0mdescription\u001b[0m\u001b[0;34m=\u001b[0m\u001b[0;34m\"A mathematical expression to evaluate, like '200*7' or '5000/2*10'. Supports basic arithmetic operations: addition (+), subtraction (-), multiplication (*), and division (/)\"\u001b[0m\u001b[0;34m\u001b[0m\u001b[0;34m\u001b[0m\u001b[0m\n\u001b[1;32m      4\u001b[0m     )\n\u001b[1;32m      5\u001b[0m \u001b[0;34m\u001b[0m\u001b[0m\n",
            "\u001b[0;31mNameError\u001b[0m: name 'BaseModel' is not defined"
          ]
        }
      ]
    },
    {
      "cell_type": "markdown",
      "source": [
        "# Agents"
      ],
      "metadata": {
        "id": "sUHfIKL6P1Rz"
      }
    },
    {
      "cell_type": "code",
      "source": [
        "researcher = Agent(\n",
        "    role=\"Research Analyst\",\n",
        "    goal=\"\"\"\n",
        "        Conduct research and analysis on topics by gathering information from reliable sources.\n",
        "        Synthesize findings into clear insights.\n",
        "        Focus on collecting factual data and evidence to support conclusions.\n",
        "        \"\"\"\n",
        "    ,\n",
        "    backstory=\"\"\"\n",
        "        You are an experienced research analyst with expertise in gathering and analyzing information\n",
        "        from multiple sources. Your analytical skills allow you to quickly identify relevant data points\n",
        "        and synthesize them into meaningful insights. You have a strong attention to detail and ability\n",
        "        to verify information through cross-referencing.\n",
        "        \"\"\"\n",
        "    ,\n",
        "    verbose=True,\n",
        "    tools=[search_tool],\n",
        "    llm=ChatOpenAI(model=standard_model),\n",
        "    #max_iter = 5,\n",
        ")\n",
        "\n",
        "interviewer = Agent(\n",
        "    role=\"Professional Interviewer\",\n",
        "    goal=\"\"\"\n",
        "        Conduct insightful interviews with industry experts and stakeholders to gather valuable\n",
        "        perspectives on future trends, challenges, and opportunities. Ask probing follow-up\n",
        "        questions to uncover deeper insights and ensure comprehensive understanding of complex topics.\n",
        "        \"\"\"\n",
        "    ,\n",
        "    backstory=\"\"\"\n",
        "        You are a seasoned professional interviewer with decades of experience conducting high-level\n",
        "        executive interviews and expert consultations. Your interviewing style combines active listening\n",
        "        with strategic questioning to draw out meaningful insights. You're known for creating a comfortable\n",
        "        environment that encourages candid discussion while maintaining professional focus. Your ability\n",
        "        to adapt questioning strategies and follow up on key points has made you highly respected in\n",
        "        gathering expert perspectives on complex industry topics.\n",
        "        \"\"\"\n",
        "    ,\n",
        "    verbose=True,\n",
        "    tools=[human_input],\n",
        "    llm=ChatOpenAI(model=standard_model),\n",
        "    max_iter=5,\n",
        ")\n",
        "\n",
        "new_agent = Agent(\n",
        "    role=\"Example 1\",\n",
        "    goal=\"\"\"\n",
        "        Conduct insightful interviews with industry experts and stakeholders to gather valuable\n",
        "        perspectives on future trends, challenges, and opportunities. Ask probing follow-up\n",
        "        questions to uncover deeper insights and ensure comprehensive understanding of complex topics.\n",
        "        \"\"\"\n",
        "    ,\n",
        "    backstory=\"\"\"\n",
        "        You are a seasoned professional interviewer with decades of experience conducting high-level\n",
        "        executive interviews and expert consultations. Your interviewing style combines active listening\n",
        "        with strategic questioning to draw out meaningful insights. You're known for creating a comfortable\n",
        "        environment that encourages candid discussion while maintaining professional focus. Your ability\n",
        "        to adapt questioning strategies and follow up on key points has made you highly respected in\n",
        "        gathering expert perspectives on complex industry topics.\n",
        "        \"\"\"\n",
        "    ,\n",
        "    verbose=True,\n",
        "    tools=[human_input],\n",
        "    llm=ChatOpenAI(model=standard_model),\n",
        "    max_iter=5,\n",
        ")"
      ],
      "metadata": {
        "id": "iDeGzVXVP2LD"
      },
      "execution_count": null,
      "outputs": []
    },
    {
      "cell_type": "markdown",
      "source": [
        "# Tasks"
      ],
      "metadata": {
        "id": "WHBcfzhSP-r2"
      }
    },
    {
      "cell_type": "code",
      "source": [
        "question = \"How is the weather in Berlin during winter?\"\n",
        "\n",
        "research_task = Task(\n",
        "    description=f\"\"\"\n",
        "        Conduct research to gather comprehensive information about {question}.\n",
        "        \"\"\"\n",
        "    ,\n",
        "    agent=researcher,\n",
        "    expected_output=\"\"\"\n",
        "        A detailed research report.\n",
        "        \"\"\"\n",
        "    ,\n",
        ")\n",
        "\n",
        "interview_task = Task(\n",
        "    description=f\"\"\"\n",
        "        Pick two to three concrete aspects from the context. Conduct a brief interview with the user to confirm the findings from the research about {question}.\n",
        "        \"\"\"\n",
        "    ,\n",
        "    agent=interviewer,\n",
        "    expected_output=\"\"\"\n",
        "        A brief summary combining the findings from the research and the interview in markdown format.\n",
        "        \"\"\"\n",
        "    ,\n",
        "    context=[research_task],\n",
        ")\n"
      ],
      "metadata": {
        "id": "dkvqTyu5P_i0"
      },
      "execution_count": null,
      "outputs": []
    },
    {
      "cell_type": "markdown",
      "source": [
        "# Crew"
      ],
      "metadata": {
        "id": "Ba5VrP_KcHwI"
      }
    },
    {
      "cell_type": "code",
      "source": [
        "crew = Crew(\n",
        "    agents=[researcher, interviewer], # hier ggf. weitere agents wie oben definiert ergänzen\n",
        "    tasks=[research_task, interview_task], # hier ggf. weitere tasks wie oben definiert ergänzen\n",
        "    process=Process.sequential,\n",
        "    verbose=True,\n",
        "    output_log_file=\"interview.log\",\n",
        ")\n",
        "\n",
        "crew.kickoff()"
      ],
      "metadata": {
        "id": "0o8ut5EmQBdo"
      },
      "execution_count": null,
      "outputs": []
    },
    {
      "cell_type": "code",
      "source": [],
      "metadata": {
        "id": "nfbEdnFNQs0L"
      },
      "execution_count": null,
      "outputs": []
    }
  ]
}